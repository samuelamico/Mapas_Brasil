{
 "cells": [
  {
   "cell_type": "markdown",
   "metadata": {},
   "source": [
    "# Adicionando e Ajeitando informações dos GeoJSONs"
   ]
  },
  {
   "cell_type": "code",
   "execution_count": 12,
   "metadata": {},
   "outputs": [],
   "source": [
    "import json\n",
    "import pandas as pd\n",
    "import glob"
   ]
  },
  {
   "cell_type": "markdown",
   "metadata": {},
   "source": [
    "## Adicionand População aos Estados e criando um novo GeoJSON"
   ]
  },
  {
   "cell_type": "code",
   "execution_count": 13,
   "metadata": {},
   "outputs": [
    {
     "data": {
      "text/html": [
       "<div>\n",
       "<style scoped>\n",
       "    .dataframe tbody tr th:only-of-type {\n",
       "        vertical-align: middle;\n",
       "    }\n",
       "\n",
       "    .dataframe tbody tr th {\n",
       "        vertical-align: top;\n",
       "    }\n",
       "\n",
       "    .dataframe thead th {\n",
       "        text-align: right;\n",
       "    }\n",
       "</style>\n",
       "<table border=\"1\" class=\"dataframe\">\n",
       "  <thead>\n",
       "    <tr style=\"text-align: right;\">\n",
       "      <th></th>\n",
       "      <th>Unnamed: 0</th>\n",
       "      <th>Cod_UF</th>\n",
       "      <th>Nome_da_UF</th>\n",
       "      <th>Populacao</th>\n",
       "    </tr>\n",
       "  </thead>\n",
       "  <tbody>\n",
       "    <tr>\n",
       "      <td>0</td>\n",
       "      <td>0</td>\n",
       "      <td>12</td>\n",
       "      <td>Acre</td>\n",
       "      <td>755819</td>\n",
       "    </tr>\n",
       "    <tr>\n",
       "      <td>1</td>\n",
       "      <td>0</td>\n",
       "      <td>27</td>\n",
       "      <td>Alagoas</td>\n",
       "      <td>3160386</td>\n",
       "    </tr>\n",
       "    <tr>\n",
       "      <td>2</td>\n",
       "      <td>0</td>\n",
       "      <td>13</td>\n",
       "      <td>Amazonas</td>\n",
       "      <td>3580219</td>\n",
       "    </tr>\n",
       "    <tr>\n",
       "      <td>3</td>\n",
       "      <td>0</td>\n",
       "      <td>16</td>\n",
       "      <td>Amapá</td>\n",
       "      <td>695114</td>\n",
       "    </tr>\n",
       "    <tr>\n",
       "      <td>4</td>\n",
       "      <td>0</td>\n",
       "      <td>29</td>\n",
       "      <td>Bahia</td>\n",
       "      <td>14253591</td>\n",
       "    </tr>\n",
       "    <tr>\n",
       "      <td>5</td>\n",
       "      <td>0</td>\n",
       "      <td>23</td>\n",
       "      <td>Ceará</td>\n",
       "      <td>8560104</td>\n",
       "    </tr>\n",
       "    <tr>\n",
       "      <td>6</td>\n",
       "      <td>0</td>\n",
       "      <td>53</td>\n",
       "      <td>Distrito Federal</td>\n",
       "      <td>2655387</td>\n",
       "    </tr>\n",
       "    <tr>\n",
       "      <td>7</td>\n",
       "      <td>0</td>\n",
       "      <td>32</td>\n",
       "      <td>Espírito Santo</td>\n",
       "      <td>3597883</td>\n",
       "    </tr>\n",
       "    <tr>\n",
       "      <td>8</td>\n",
       "      <td>0</td>\n",
       "      <td>52</td>\n",
       "      <td>Goiás</td>\n",
       "      <td>6142791</td>\n",
       "    </tr>\n",
       "    <tr>\n",
       "      <td>9</td>\n",
       "      <td>0</td>\n",
       "      <td>21</td>\n",
       "      <td>Maranhão</td>\n",
       "      <td>6710142</td>\n",
       "    </tr>\n",
       "  </tbody>\n",
       "</table>\n",
       "</div>"
      ],
      "text/plain": [
       "   Unnamed: 0  Cod_UF        Nome_da_UF  Populacao\n",
       "0           0      12              Acre     755819\n",
       "1           0      27           Alagoas    3160386\n",
       "2           0      13          Amazonas    3580219\n",
       "3           0      16             Amapá     695114\n",
       "4           0      29             Bahia   14253591\n",
       "5           0      23             Ceará    8560104\n",
       "6           0      53  Distrito Federal    2655387\n",
       "7           0      32    Espírito Santo    3597883\n",
       "8           0      52             Goiás    6142791\n",
       "9           0      21          Maranhão    6710142"
      ]
     },
     "execution_count": 13,
     "metadata": {},
     "output_type": "execute_result"
    }
   ],
   "source": [
    "df_populacao_estado = pd.read_csv('Populacao/Estado_Populacao_2016.csv')\n",
    "df_populacao_estado.head(10)"
   ]
  },
  {
   "cell_type": "code",
   "execution_count": 27,
   "metadata": {},
   "outputs": [
    {
     "name": "stdout",
     "output_type": "stream",
     "text": [
      "Fim\n"
     ]
    }
   ],
   "source": [
    "## Criar um novo geojson\n",
    "json_complete = []\n",
    "\n",
    "def sigla_ibge(sigla):\n",
    "    dic_estado = {\"RO\":\"11\", \"AC\":\"12\", \"AM\":\"13\", \\\n",
    "                  \"RR\":\"14\", \"PA\":\"15\", \"AP\":\"16\", \"TO\":\"17\", \"MA\":\"21\", \\\n",
    "                  \"PI\":\"22\" , \"CE\":\"23\" , \"RN\":\"24\" , \"PB\":\"25\" , \"PE\":\"26\", \"AL\":\"27\" , \\\n",
    "                  \"SE\":\"28\", \"BA\":\"29\", \"MG\":\"31\", \"ES\":\"32\" , \"RJ\":\"33\", \"SP\":\"35\", \"PR\":\"41\", \\\n",
    "                  \"SC\":\"42\", \"RS\":\"43\", \"MS\":\"50\", \"MT\":\"51\", \"GO\":\"52\", \"DF\": \"53\"}\n",
    "    return(dic_estado[sigla])\n",
    "\n",
    "def populacao(codigo):\n",
    "    df_estado = df_populacao_estado[df_populacao_estado.Cod_UF == int(codigo)]\n",
    "    return(df_estado.iloc[0][3])\n",
    "\n",
    "with open('Estados.json', encoding='utf-8') as json_file:\n",
    "    data = json.load(json_file)\n",
    "    \n",
    "    for feat in data['features']:\n",
    "        doc = {\n",
    "            \"type\": \"Feature\",\n",
    "            \"properties\": {\n",
    "                \"UF\": feat['properties']['iso_3166_2'],\n",
    "                \"Estado\": feat['properties']['label_pt_br'],\n",
    "                \"Codigo_IBGE\": sigla_ibge(feat['properties']['iso_3166_2']),\n",
    "                \"Populacao\": str(populacao(sigla_ibge(feat['properties']['iso_3166_2'])))\n",
    "            },\n",
    "            \"geometry\":{\n",
    "                \"type\": feat['geometry']['type'],\n",
    "                \"coordinates\": feat['geometry']['coordinates']\n",
    "            }\n",
    "        }\n",
    "        \n",
    "        json_complete.append(doc)\n",
    "        \n",
    "print(\"Fim\")\n",
    "##### Salvar arquivo\n",
    "name = 'Estados.geojson'\n",
    "geojson = {\n",
    "    \"type\":\"FeatureCollection\",\n",
    "    \"features\": json_complete\n",
    "}\n",
    "with open(name, 'w') as json_file:\n",
    "    json.dump(geojson, json_file, ensure_ascii=True)"
   ]
  },
  {
   "cell_type": "code",
   "execution_count": null,
   "metadata": {},
   "outputs": [],
   "source": []
  }
 ],
 "metadata": {
  "kernelspec": {
   "display_name": "Python 3",
   "language": "python",
   "name": "python3"
  },
  "language_info": {
   "codemirror_mode": {
    "name": "ipython",
    "version": 3
   },
   "file_extension": ".py",
   "mimetype": "text/x-python",
   "name": "python",
   "nbconvert_exporter": "python",
   "pygments_lexer": "ipython3",
   "version": "3.7.4"
  }
 },
 "nbformat": 4,
 "nbformat_minor": 2
}
